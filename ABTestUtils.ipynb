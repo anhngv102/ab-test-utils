{
  "nbformat": 4,
  "nbformat_minor": 0,
  "metadata": {
    "colab": {
      "provenance": [],
      "mount_file_id": "https://github.com/anhngv102/ab-test-utils/blob/main/ABTestUtils.ipynb",
      "authorship_tag": "ABX9TyO/06XqYse7EmsrfWmYS76p"
    },
    "kernelspec": {
      "name": "python3",
      "display_name": "Python 3"
    },
    "language_info": {
      "name": "python"
    }
  },
  "cells": [
    {
      "cell_type": "code",
      "execution_count": 31,
      "metadata": {
        "id": "ZeGIxdKfjLrE"
      },
      "outputs": [],
      "source": [
        "import numpy as np\n",
        "import pandas as pd"
      ]
    },
    {
      "cell_type": "code",
      "source": [
        "# load and preprocess data\n",
        "#import os\n",
        "#os.listdir()\n",
        "\n",
        "__DATA_DIR__ = \"./drive/MyDrive/data-playground/sample_data_final.csv\"\n",
        "\n",
        "df = pd.read_csv(__DATA_DIR__,header = \"infer\")\n",
        "\n",
        "df = df.drop([\"user_id\",\n",
        "              \"orders_outlier_ind\",\n",
        "              \"room_nights_outlier_ind\",\n",
        "              \"booking_gbv_outlier_ind\",\n",
        "              ],axis=1).reset_index(drop = True)\n",
        "\n",
        "#df.head()"
      ],
      "metadata": {
        "id": "-Ge3e6fSkhrR"
      },
      "execution_count": 32,
      "outputs": []
    },
    {
      "cell_type": "markdown",
      "source": [
        "### Util: Detect group label bias on covariates"
      ],
      "metadata": {
        "id": "Hl_snHaDWilx"
      }
    },
    {
      "cell_type": "code",
      "source": [
        "def checkAdversarialLabel(A_group,\n",
        "                    B_group,\n",
        "                    covariates,\n",
        "                    sample_frac = 1.0,\n",
        "                    thr_max = 0.51,\n",
        "                    thr_min = 0.49,\n",
        "                    verbose = False\n",
        "                    ):\n",
        "  \"\"\"\n",
        "  Check if the group variants were stratified correctly using adverserial strategy\n",
        "\n",
        "  Parameters:\n",
        "  * A_group: Group A\n",
        "  * B_group: Group B\n",
        "  * covariates: List of covariates\n",
        "  * sample_frac: Sample of fraction % for faster validation (default 1)\n",
        "  * thr_max: Max threshold for ROC (default 0.51)\n",
        "  * thr_min: Min threshold for ROC (default 0.49)\n",
        "  * verbose: if True then print all step status\n",
        "\n",
        "  Returns: True / False\n",
        "  \"\"\" \n",
        "  from sklearn.ensemble import RandomForestClassifier\n",
        "  from sklearn.model_selection import cross_val_predict\n",
        "  from sklearn.metrics import roc_auc_score\n",
        "\n",
        "  if verbose == True:\n",
        "    print(\"Adverserial validation started...\")\n",
        "  if len(covariates) < 1:\n",
        "    return False\n",
        "  \n",
        "  A_deepcopy = A_group.copy(deep = True)\n",
        "  B_deepcopy = B_group.copy(deep = True)\n",
        "\n",
        "  # if sample fraction is specified, extract the subsets randomly\n",
        "  if (sample_frac < 1.0) and (sample_frac > 0.0):\n",
        "    if verbose == True:\n",
        "      print(\"Sampling {} of both datasets\".format(sample_frac))\n",
        "\n",
        "    A_deepcopy = A_deepcopy.sample(frac = sample_frac)\n",
        "    B_deepcopy = B_deepcopy.sample(frac = sample_frac)\n",
        "    \n",
        "  # Prepare a dataset by combining A & B and put labels of the groups - 2 classes\n",
        "  if verbose == True:\n",
        "    print(\"Combine A & B groups and create group label for each\")\n",
        "  X = A_deepcopy.append(B_deepcopy) \n",
        "  y = [0]*len(A_deepcopy) + [1]*len(B_deepcopy) # put a pseudolabel\n",
        "\n",
        "  # convert all categorical variables to binary \n",
        "  X = pd.get_dummies(X,columns = covariates)\n",
        "\n",
        "  if verbose == True:\n",
        "    print(\"Run a classifier to distinguish between the 2 datasets\")\n",
        "  model = RandomForestClassifier() # use RandomForest here but could be any classifier\n",
        "  \n",
        "  # do cross-val and output prediction of pseudo-label\n",
        "  cv_preds = cross_val_predict(model, \n",
        "                               X, \n",
        "                               y, \n",
        "                               cv=2, \n",
        "                               n_jobs = None,\n",
        "                               method = \"predict_proba\",\n",
        "                               verbose = verbose)\n",
        "  \n",
        "  roc_score = roc_auc_score(y_true = y, y_score = cv_preds[:,1])\n",
        "  if verbose == True:\n",
        "    print (\"ROC Score = {}\".format(roc_score))\n",
        "    print (\"Adverserial validation finished.\")\n",
        "\n",
        "  return thr_min <= roc_score <= thr_max"
      ],
      "metadata": {
        "id": "dtz6D9yzp8Z6"
      },
      "execution_count": null,
      "outputs": []
    },
    {
      "cell_type": "code",
      "source": [
        "# create a test case\n",
        "train = df[df[\"experiment_variant_code\"]== \"CONTROL\"].drop(\"experiment_variant_code\",axis = 1)\n",
        "test = df[df[\"experiment_variant_code\"] == \"VARIANT\"].drop(\"experiment_variant_code\",axis = 1)\n",
        "features = [\"new_return_visitor\",\"platform_type\",\"posa_super_region\",\"marketing_channel\"]\n",
        "\n",
        "print(checkAdversarialLabel(train,test,features,sample_frac = 0.1,verbose = True))\n",
        "\n"
      ],
      "metadata": {
        "id": "hc1P9ICwlaGx",
        "colab": {
          "base_uri": "https://localhost:8080/"
        },
        "outputId": "14624600-dce3-42d6-bddd-a2a2824ddc99"
      },
      "execution_count": null,
      "outputs": [
        {
          "output_type": "stream",
          "name": "stdout",
          "text": [
            "Adverserial validation started...\n",
            "Sampling 0.1 of both datasets\n",
            "Combine A & B groups and create group label for each\n",
            "Run a classifier to distinguish between the 2 datasets\n"
          ]
        },
        {
          "output_type": "stream",
          "name": "stderr",
          "text": [
            "[Parallel(n_jobs=1)]: Using backend SequentialBackend with 1 concurrent workers.\n"
          ]
        },
        {
          "output_type": "stream",
          "name": "stdout",
          "text": [
            "ROC Score = 0.5026046946550645\n",
            "Adverserial validation finished.\n",
            "True\n"
          ]
        },
        {
          "output_type": "stream",
          "name": "stderr",
          "text": [
            "[Parallel(n_jobs=1)]: Done   2 out of   2 | elapsed:   54.8s finished\n"
          ]
        }
      ]
    },
    {
      "cell_type": "markdown",
      "source": [
        "### Utils: Perform chisqr tests on covariates"
      ],
      "metadata": {
        "id": "DG-T18pYhVcz"
      }
    },
    {
      "cell_type": "code",
      "source": [
        "def checkCovBalance(A_group,\n",
        "               B_group,\n",
        "               covariates,\n",
        "               alpha = 0.05,\n",
        "               verbose = False\n",
        "              ):\n",
        "  \"\"\"\n",
        "  Check if the group variants are balanced based on chi square tests\n",
        "\n",
        "  Parameters:\n",
        "  * A_group: Group A\n",
        "  * B_group: Group B\n",
        "  * covariates: List of covariates\n",
        "  * alpha: Critical value (default 5%)\n",
        "  * verbose: if True then print all step status\n",
        "\n",
        "  Returns: List of unbalanced covariates (empty if not)\n",
        "  \"\"\" \n",
        " \n",
        "  from scipy.stats import chi2_contingency\n",
        "\n",
        "  if verbose == True:\n",
        "    print(\"Covariate balancing check using Chisqr test...\")\n",
        "\n",
        "  if len(covariates) < 1:\n",
        "    return False\n",
        "\n",
        "  A_deepcopy = A_group.copy(deep = True)\n",
        "  B_deepcopy = B_group.copy(deep = True)\n",
        "\n",
        "  # label group\n",
        "  A_deepcopy[\"group_\"] = \"A\"\n",
        "  B_deepcopy[\"group_\"] = \"B\"\n",
        "\n",
        "  # Prepare a dataset by combining A & B \n",
        "  if verbose == True:\n",
        "    print(\"Combine A & B groups and create group label for each\")\n",
        "  AB_df = A_deepcopy.append(B_deepcopy) \n",
        "\n",
        "  output_list = []\n",
        "\n",
        "  for cov in covariates:\n",
        "      pct = pd.crosstab(AB_df[cov],AB_df[\"group_\"],normalize = \"columns\")\n",
        "      _, p, _, _ = chi2_contingency(pct) \n",
        "\n",
        "      if verbose == True:\n",
        "        print(\"Covariate {}:\".format(cov))\n",
        "        print(pct)\n",
        "        print(\"p_val = {}\".format(p))\n",
        "        print()\n",
        "      \n",
        "      if p <= alpha:\n",
        "        output_list.append(cov)\n",
        "  \n",
        "  return output_list  "
      ],
      "metadata": {
        "id": "K8g3ESJU3frv"
      },
      "execution_count": null,
      "outputs": []
    },
    {
      "cell_type": "code",
      "source": [
        "# create a test case\n",
        "train = df[df[\"experiment_variant_code\"]== \"CONTROL\"].drop(\"experiment_variant_code\",axis = 1)\n",
        "test = df[df[\"experiment_variant_code\"] == \"VARIANT\"].drop(\"experiment_variant_code\",axis = 1)\n",
        "features = [\"new_return_visitor\",\"platform_type\",\"posa_super_region\",\"marketing_channel\"]\n",
        "\n",
        "print(checkCovBalance(train,test,features,verbose = False))"
      ],
      "metadata": {
        "colab": {
          "base_uri": "https://localhost:8080/"
        },
        "id": "GqbivbXghdr5",
        "outputId": "72d42e3f-1015-4b67-ebf9-a8da8782a3e4"
      },
      "execution_count": null,
      "outputs": [
        {
          "output_type": "stream",
          "name": "stdout",
          "text": [
            "[]\n"
          ]
        }
      ]
    },
    {
      "cell_type": "code",
      "source": [
        "def detectTailedOutlier(A_group,\n",
        "                        B_group,\n",
        "                        targets,\n",
        "                        remove_outlier = False,\n",
        "                        tail_quantile_level = 0.99,\n",
        "                        verbose = False):\n",
        "  \n",
        "  \"\"\"\n",
        "  Detect outliers based on tailed quantile with option of outlier removal\n",
        "\n",
        "  Parameters:\n",
        "  * A_group: Group A\n",
        "  * B_group: Group B\n",
        "  * target: Target variables\n",
        "  * remove_outlier: Option to remove outlier (default False)\n",
        "  * tail_quantile_level: The quantile beyond which the outlier is determined\n",
        "  * verbose: if True then print all step status\n",
        "\n",
        "  Returns: \n",
        "  * List of outlier level corresponding to each target (dict type)\n",
        "  * A_group outliers removed if remove_outlier = True\n",
        "  * B_group outliers removed if remove_outlier = True\n",
        "  \"\"\" \n",
        "\n",
        "  if verbose == True:\n",
        "    print(\"Detect outliers by quantiles...\")\n",
        "  \n",
        "  if len(targets) < 1:\n",
        "    return None, A_group, B_group\n",
        "\n",
        "  A_deepcopy = A_group.copy(deep = True)\n",
        "  B_deepcopy = B_group.copy(deep = True)\n",
        "\n",
        "  # label group\n",
        "  A_deepcopy[\"group_\"] = \"A\"\n",
        "  B_deepcopy[\"group_\"] = \"B\"\n",
        "\n",
        "  AB_df = A_deepcopy.append(B_deepcopy) \n",
        "\n",
        "  sum_stats = AB_df[targets].describe([0.01, 0.05, 0.20, 0.50, 0.80, 0.95, 0.99])\n",
        "\n",
        "  if verbose == True:\n",
        "    print(\"Pre-removal of outliers:\")\n",
        "    print(sum_stats.T)\n",
        "    print()\n",
        "\n",
        "  outliers = {}\n",
        "\n",
        "  for tg in targets:\n",
        "    outliers[tg] = AB_df[tg].quantile(tail_quantile_level)\n",
        "    if remove_outlier:\n",
        "      AB_df = AB_df[AB_df[tg] <= outliers[tg]]\n",
        "      A_deepcopy = A_deepcopy[A_deepcopy[tg] <= outliers[tg]]\n",
        "      B_deepcopy = B_deepcopy[B_deepcopy[tg] <= outliers[tg]]\n",
        "\n",
        "  if verbose == True:\n",
        "    sum_stats = AB_df[targets].describe([0.01, 0.05, 0.20, 0.50, 0.80, 0.95, 0.99])\n",
        "    print(\"Post_removal of outliers:\")\n",
        "    print(sum_stats.T)\n",
        "\n",
        "  \n",
        "  return outliers, A_deepcopy, B_deepcopy\n"
      ],
      "metadata": {
        "id": "IajrkwHhhdfE"
      },
      "execution_count": 33,
      "outputs": []
    },
    {
      "cell_type": "code",
      "source": [
        "# create a test case\n",
        "train = df[df[\"experiment_variant_code\"]== \"CONTROL\"].drop(\"experiment_variant_code\",axis = 1)\n",
        "test = df[df[\"experiment_variant_code\"] == \"VARIANT\"].drop(\"experiment_variant_code\",axis = 1)\n",
        "features = [\"new_return_visitor\",\"platform_type\",\"posa_super_region\",\"marketing_channel\"]\n",
        "targets = [\"orders\",\"room_nights\",\"booking_gbv\"]\n",
        "ls,train,test= detectTailedOutlier(train,\n",
        "                                   test,\n",
        "                                   targets,\n",
        "                                   remove_outlier = False, \n",
        "                                   verbose = True)"
      ],
      "metadata": {
        "id": "JbnUGuJJk1RF",
        "outputId": "4ab3eab4-3f20-4cc1-b84e-0b5f18a0d99b",
        "colab": {
          "base_uri": "https://localhost:8080/"
        }
      },
      "execution_count": 71,
      "outputs": [
        {
          "output_type": "stream",
          "name": "stdout",
          "text": [
            "Detect outliers by quantiles...\n",
            "Pre-removal of outliers:\n",
            "                 count       mean           std  min   1%   5%  20%  50%  80%  \\\n",
            "orders       1948770.0   0.169919      1.719938  0.0  0.0  0.0  0.0  0.0  0.0   \n",
            "room_nights  1948770.0   0.386600      4.578911  0.0  0.0  0.0  0.0  0.0  0.0   \n",
            "booking_gbv  1948770.0  62.053404  15230.745479  0.0  0.0  0.0  0.0  0.0  0.0   \n",
            "\n",
            "                  95%        99%         max  \n",
            "orders         1.0000     3.0000      1185.0  \n",
            "room_nights    2.0000     8.0000      1569.0  \n",
            "booking_gbv  180.7516  1099.0882  21245984.0  \n",
            "\n",
            "Post_removal of outliers:\n",
            "                 count       mean           std  min   1%   5%  20%  50%  80%  \\\n",
            "orders       1948770.0   0.169919      1.719938  0.0  0.0  0.0  0.0  0.0  0.0   \n",
            "room_nights  1948770.0   0.386600      4.578911  0.0  0.0  0.0  0.0  0.0  0.0   \n",
            "booking_gbv  1948770.0  62.053404  15230.745479  0.0  0.0  0.0  0.0  0.0  0.0   \n",
            "\n",
            "                  95%        99%         max  \n",
            "orders         1.0000     3.0000      1185.0  \n",
            "room_nights    2.0000     8.0000      1569.0  \n",
            "booking_gbv  180.7516  1099.0882  21245984.0  \n"
          ]
        }
      ]
    },
    {
      "cell_type": "markdown",
      "source": [
        "### Utils: Test normality of a given group using Shapiro test"
      ],
      "metadata": {
        "id": "4ic5m5u9IqUf"
      }
    },
    {
      "cell_type": "code",
      "source": [
        "def checkNormality(group,\n",
        "                  targets,\n",
        "                  alpha = 0.05,\n",
        "                  plot_dist = False,\n",
        "                  verbose = False):\n",
        "  \n",
        "  \"\"\"\n",
        "  Check normality of the targett variables. If sample size is larger than 5000,\n",
        "  use Shapiro-Wilk test (parametric). Otherwise, use Kolmogorov-Smirnoff test \n",
        "  (non-parametric)\n",
        "\n",
        "  Parameters:\n",
        "  * group: Input data\n",
        "  * targets: Taget variables (list if multiple)\n",
        "  * alpha: Critical value (default 0.05)\n",
        "  * plot_dist: Plot histogram & density function if True (default False)\n",
        "  * verbose:  print all step statuses if True (default False)\n",
        "\n",
        "  Returns: \n",
        "  * Targets that are not normally distributed\n",
        "  \"\"\" \n",
        "  from scipy import stats\n",
        "  import matplotlib.pyplot as plt\n",
        "  import seaborn as sns\n",
        "\n",
        "\n",
        "  non_normal_targets = []\n",
        "  N_sample = len(group) \n",
        "  if plot_dist:\n",
        "    _,axes = plt.subplots(len(targets) // 3,\n",
        "                          (len(targets)-1) % 3 + 1,\n",
        "                          figsize = (15,4))\n",
        "\n",
        "  for idx,tg in enumerate(targets):\n",
        "    \n",
        "    # if plot_dist set to True, plot the histogram & density function\n",
        "    if plot_dist:\n",
        "      sns.histplot(group[tg] , \n",
        "                   color=\"skyblue\", \n",
        "                   kde = True, \n",
        "                   stat = \"density\",\n",
        "                   label=tg,\n",
        "                   ax = axes[idx])\n",
        "\n",
        "    # if sample size is less than 5000, use Shapiro-Wilk test\n",
        "    if N_sample < 5000:\n",
        "      _, pval  = stats.shapiro(group[tg])\n",
        "\n",
        "      if verbose == True:\n",
        "        print(\"[Shapiro-Wilk] Test normality: Target {} P-val = {}\".format(tg,pval))\n",
        "\n",
        "    # else use Kolmogorv-Smirnoff test against norm\n",
        "    else:\n",
        "      _, pval = stats.kstest(group[tg],stats.norm.cdf)\n",
        "\n",
        "      if verbose == True:\n",
        "        print(\"[KS] Test normality: Target {} P-val = {}\".format(tg,pval))\n",
        "\n",
        "    if pval < alpha:\n",
        "      non_normal_targets.append(tg)\n",
        "\n",
        "  return non_normal_targets"
      ],
      "metadata": {
        "id": "fh7L_W-WIpds"
      },
      "execution_count": 61,
      "outputs": []
    },
    {
      "cell_type": "code",
      "source": [
        "# create a few test cases\n",
        "checkNormality(train[train[\"conv_ind\"]>0],targets,plot_dist = True,verbose = True)"
      ],
      "metadata": {
        "id": "Kkny3LYFOxMy",
        "outputId": "6367b399-a294-408b-ca97-5bc962856fbf",
        "colab": {
          "base_uri": "https://localhost:8080/",
          "height": 367
        }
      },
      "execution_count": 58,
      "outputs": [
        {
          "output_type": "stream",
          "name": "stdout",
          "text": [
            "Test normality of the group...\n",
            "[KS] Target orders P-val = 0.0\n",
            "[KS] Target room_nights P-val = 0.0\n",
            "[KS] Target booking_gbv P-val = 0.0\n"
          ]
        },
        {
          "output_type": "execute_result",
          "data": {
            "text/plain": [
              "['orders', 'room_nights', 'booking_gbv']"
            ]
          },
          "metadata": {},
          "execution_count": 58
        },
        {
          "output_type": "display_data",
          "data": {
            "text/plain": [
              "<Figure size 1080x288 with 3 Axes>"
            ],
            "image/png": "[encoded data removed]"
          },
          "metadata": {
            "needs_background": "light"
          }
        }
      ]
    },
    {
      "cell_type": "code",
      "source": [
        "def checkVariance(A_group,\n",
        "                  B_group,\n",
        "                  targets,\n",
        "                  alpha = 0.05,\n",
        "                  plot_dist = False,\n",
        "                  verbose = False):\n",
        "  \n",
        "  \"\"\"\n",
        "  Check homogeneity of variance for the 2 variants using Levene test\n",
        "\n",
        "  Parameters:\n",
        "  * A_group: Group A\n",
        "  * B_group: Group B\n",
        "  * targets: Taget variables (list if multiple)\n",
        "  * alpha: Critical value (default 0.05)\n",
        "  * plot_dist: Plot histogram & density function if True (default False)\n",
        "  * verbose:  print all step statuses if True (default False)\n",
        "\n",
        "  Returns: \n",
        "  * Targets that are not normally distributed\n",
        "  \"\"\" \n",
        "  from scipy import stats\n",
        "  import matplotlib.pyplot as plt\n",
        "  import seaborn as sns\n",
        "\n",
        "  non_homog_targets = []\n",
        "\n",
        "  if plot_dist:\n",
        "    _,axes = plt.subplots(len(targets),\n",
        "                          2,\n",
        "                          figsize = (10,5))\n",
        "\n",
        "  for idx,tg in enumerate(targets):\n",
        "    \n",
        "    # if plot_dist set to True, plot the histogram & density function\n",
        "    if plot_dist:\n",
        "      sns.histplot(A_group[tg],color=\"skyblue\",kde = True,stat = \"density\",label=tg,ax = axes[idx,0])\n",
        "      sns.histplot(B_group[tg],color=\"red\",kde = True,stat = \"density\",label=tg,ax = axes[idx,1])\n",
        "\n",
        "\n",
        "    # if sample size is less than 5000, use Shapiro-Wilk test\n",
        "    _, pval = stats.levene(A_group[tg],B_group[tg])\n",
        "\n",
        "    if pval < alpha:\n",
        "      non_homog_targets.append(tg)\n",
        "\n",
        "    if verbose:\n",
        "      print(\"[Levene] Test homogenity of variance: Target {} P-val = {}\".format(tg,pval))\n",
        "\n",
        "  return non_homog_targets"
      ],
      "metadata": {
        "id": "7DMozx3XOIKZ"
      },
      "execution_count": 55,
      "outputs": []
    },
    {
      "cell_type": "code",
      "source": [
        "# create a few test cases\n",
        "checkVariance(train[train[\"conv_ind\"]>0],\n",
        "               test[test[\"conv_ind\"]>0],\n",
        "               targets,\n",
        "               plot_dist = True,\n",
        "               verbose = True)"
      ],
      "metadata": {
        "colab": {
          "base_uri": "https://localhost:8080/",
          "height": 422
        },
        "id": "Oa6KuFurQ0vU",
        "outputId": "9e70fd29-819e-47f2-dc82-c263003e1cad"
      },
      "execution_count": 56,
      "outputs": [
        {
          "output_type": "stream",
          "name": "stdout",
          "text": [
            "Test homogeneity of variance of the group...\n",
            "[Levene] Target orders P-val = 0.007542841212449814\n",
            "[Levene] Target room_nights P-val = 0.0029992263225453544\n",
            "[Levene] Target booking_gbv P-val = 0.03490087079446098\n"
          ]
        },
        {
          "output_type": "execute_result",
          "data": {
            "text/plain": [
              "['orders', 'room_nights', 'booking_gbv']"
            ]
          },
          "metadata": {},
          "execution_count": 56
        },
        {
          "output_type": "display_data",
          "data": {
            "text/plain": [
              "<Figure size 720x360 with 6 Axes>"
            ],
            "image/png": "[encoded data removed]"
          },
          "metadata": {
            "needs_background": "light"
          }
        }
      ]
    },
    {
      "cell_type": "code",
      "source": [
        "def computePVal(A_group,\n",
        "                  B_group,\n",
        "                  targets,\n",
        "                  alpha = 0.05,\n",
        "                  verbose = False):\n",
        "  \n",
        "  \"\"\"\n",
        "  Compute P-values for testing 2 groups\n",
        "  - Apply Shapiro-Wilk or Kolmogorov-Smirnoff Test for normality\n",
        "  - If normality applies, apply Levene Test for homogeneity of variances\n",
        "      + If Parametric + homogeneity of variances apply T-Test\n",
        "      + If Parametric - homogeneity of variances apply Welch Test\n",
        "  - If not, apply non-parametric test (Mann Whitney U)\n",
        "\n",
        "  Parameters:\n",
        "  * A_group: Group A\n",
        "  * B_group: Group B\n",
        "  * targets: Taget variables (list if multiple)\n",
        "  * alpha: Critical value (default 0.05)\n",
        "  * verbose:  print all step statuses if True (default False)\n",
        "\n",
        "  Returns: \n",
        "  * Pvalues for all targets\n",
        "  \"\"\" \n",
        "  if verbose == True:\n",
        "    print(\"Compute p-values for testing 2 groups...\")\n",
        "\n",
        "  import scipy.stats as stats\n",
        "\n",
        "  pval = {}\n",
        "\n",
        "  for tg in targets:\n",
        "    # If both groups A & B are normally distributed, we can apply parametric tests\n",
        "    if (len(checkNormality(group = A_group, \n",
        "                           targets = [tg],\n",
        "                           verbose = verbose)) == 0) \\\n",
        "      and (len(checkNormality(group = B_group,\n",
        "                             targets = [tg],\n",
        "                             verbose = verbose)) == 0):\n",
        "      \n",
        "      if verbose:\n",
        "        print(\"Both A & B groups are normally distributed...\")\n",
        "\n",
        "      _, pval[tg] = stats.ttest_ind(A_group,\n",
        "                                    B_group,\n",
        "                                    equal_var = len(checkVariance(A_group,B_group,[tg])) == 0)\n",
        "\n",
        "      if verbose:\n",
        "        print(\"[T-test] Target {} P-val = {}\".format(tg, pval[tg]))\n",
        "        print()\n",
        "\n",
        "    # Otherwise, we should use non-parametric tests    \n",
        "    else:\n",
        "      if verbose:\n",
        "        print(\"Either A or B group is not normally distributed...\")\n",
        "\n",
        "      _, pval[tg] = stats.mannwhitneyu(A_group[tg],\n",
        "                                       B_group[tg])\n",
        "    \n",
        "      if verbose:\n",
        "        print(\"[Mann Whitney U] Target {} P-val = {}\".format(tg, pval[tg]))\n",
        "        print()\n",
        "\n",
        "  return pval"
      ],
      "metadata": {
        "id": "bxcta7jttSL-"
      },
      "execution_count": 69,
      "outputs": []
    },
    {
      "cell_type": "code",
      "source": [
        "# create a few test cases\n",
        "#computePVal(train[train[\"conv_ind\"]>0],\n",
        "#               test[test[\"conv_ind\"]>0],\n",
        "#               targets,\n",
        "#               verbose = True)\n",
        "\n",
        "# create a few test cases\n",
        "computePVal(train,\n",
        "            test,\n",
        "            [\"conv_ind\"],\n",
        "            verbose = True)"
      ],
      "metadata": {
        "id": "e6COBIClz1xn",
        "outputId": "76f22343-b2da-4931-d6a7-fc3301e4745c",
        "colab": {
          "base_uri": "https://localhost:8080/"
        }
      },
      "execution_count": 72,
      "outputs": [
        {
          "output_type": "stream",
          "name": "stdout",
          "text": [
            "Compute p-values for testing 2 groups...\n",
            "[KS] Test normality: Target conv_ind P-val = 0.0\n",
            "Either A or B group is not normally distributed...\n",
            "[Mann Whitney U] Target conv_ind P-val = 0.5700349285874953\n",
            "\n"
          ]
        },
        {
          "output_type": "execute_result",
          "data": {
            "text/plain": [
              "{'conv_ind': 0.5700349285874953}"
            ]
          },
          "metadata": {},
          "execution_count": 72
        }
      ]
    }
  ]
}