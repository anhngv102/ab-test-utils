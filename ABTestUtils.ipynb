{
  "nbformat": 4,
  "nbformat_minor": 0,
  "metadata": {
    "colab": {
      "provenance": [],
      "mount_file_id": "https://github.com/anhngv102/ab-test-utils/blob/main/ABTestUtils.ipynb",
      "authorship_tag": "ABX9TyNFDoEtlYHGD8+cWVNZtf/W"
    },
    "kernelspec": {
      "name": "python3",
      "display_name": "Python 3"
    },
    "language_info": {
      "name": "python"
    }
  },
  "cells": [
    {
      "cell_type": "code",
      "execution_count": 1,
      "metadata": {
        "id": "ZeGIxdKfjLrE"
      },
      "outputs": [],
      "source": [
        "import numpy as np\n",
        "import pandas as pd"
      ]
    },
    {
      "cell_type": "code",
      "source": [
        "# load and preprocess data\n",
        "#import os\n",
        "#os.listdir()\n",
        "\n",
        "__DATA_DIR__ = \"./drive/MyDrive/data-playground/sample_data_final.csv\"\n",
        "\n",
        "df = pd.read_csv(__DATA_DIR__,header = \"infer\")\n",
        "\n",
        "df = df.drop([\"user_id\",\n",
        "              \"orders_outlier_ind\",\n",
        "              \"room_nights_outlier_ind\",\n",
        "              \"booking_gbv_outlier_ind\",\n",
        "              ],axis=1).reset_index(drop = True)\n",
        "\n",
        "#df.head()"
      ],
      "metadata": {
        "id": "-Ge3e6fSkhrR"
      },
      "execution_count": 2,
      "outputs": []
    },
    {
      "cell_type": "markdown",
      "source": [
        "### Util: Detect group label bias on covariates"
      ],
      "metadata": {
        "id": "Hl_snHaDWilx"
      }
    },
    {
      "cell_type": "code",
      "source": [
        "def checkAdversarialLabel(A_group,\n",
        "                    B_group,\n",
        "                    covariates,\n",
        "                    sample_frac = 1.0,\n",
        "                    thr_max = 0.51,\n",
        "                    thr_min = 0.49,\n",
        "                    verbose = False\n",
        "                    ):\n",
        "  \"\"\"\n",
        "  Check if the group variants were stratified correctly using adverserial strategy\n",
        "\n",
        "  Parameters:\n",
        "  * A_group: Group A\n",
        "  * B_group: Group B\n",
        "  * covariates: List of covariates\n",
        "  * sample_frac: Sample of fraction % for faster validation (default 1)\n",
        "  * thr_max: Max threshold for ROC (default 0.51)\n",
        "  * thr_min: Min threshold for ROC (default 0.49)\n",
        "  * verbose: if True then print all step status\n",
        "\n",
        "  Returns: True / False\n",
        "  \"\"\" \n",
        "  from sklearn.ensemble import RandomForestClassifier\n",
        "  from sklearn.model_selection import cross_val_predict\n",
        "  from sklearn.metrics import roc_auc_score\n",
        "\n",
        "  if verbose == True:\n",
        "    print(\"Adverserial validation started...\")\n",
        "  if len(covariates) < 1:\n",
        "    return False\n",
        "  \n",
        "  A_deepcopy = A_group.copy(deep = True)\n",
        "  B_deepcopy = B_group.copy(deep = True)\n",
        "\n",
        "  # if sample fraction is specified, extract the subsets randomly\n",
        "  if (sample_frac < 1.0) and (sample_frac > 0.0):\n",
        "    if verbose == True:\n",
        "      print(\"Sampling {} of both datasets\".format(sample_frac))\n",
        "\n",
        "    A_deepcopy = A_deepcopy.sample(frac = sample_frac)\n",
        "    B_deepcopy = B_deepcopy.sample(frac = sample_frac)\n",
        "    \n",
        "  # Prepare a dataset by combining A & B and put labels of the groups - 2 classes\n",
        "  if verbose == True:\n",
        "    print(\"Combine A & B groups and create group label for each\")\n",
        "  X = A_deepcopy.append(B_deepcopy) \n",
        "  y = [0]*len(A_deepcopy) + [1]*len(B_deepcopy) # put a pseudolabel\n",
        "\n",
        "  # convert all categorical variables to binary \n",
        "  X = pd.get_dummies(X,columns = covariates)\n",
        "\n",
        "  if verbose == True:\n",
        "    print(\"Run a classifier to distinguish between the 2 datasets\")\n",
        "  model = RandomForestClassifier() # use RandomForest here but could be any classifier\n",
        "  \n",
        "  # do cross-val and output prediction of pseudo-label\n",
        "  cv_preds = cross_val_predict(model, \n",
        "                               X, \n",
        "                               y, \n",
        "                               cv=2, \n",
        "                               n_jobs = None,\n",
        "                               method = \"predict_proba\",\n",
        "                               verbose = verbose)\n",
        "  \n",
        "  roc_score = roc_auc_score(y_true = y, y_score = cv_preds[:,1])\n",
        "  if verbose == True:\n",
        "    print (\"ROC Score = {}\".format(roc_score))\n",
        "    print (\"Adverserial validation finished.\")\n",
        "\n",
        "  return thr_min <= roc_score <= thr_max"
      ],
      "metadata": {
        "id": "dtz6D9yzp8Z6"
      },
      "execution_count": null,
      "outputs": []
    },
    {
      "cell_type": "code",
      "source": [
        "# create a test case\n",
        "train = df[df[\"experiment_variant_code\"]== \"CONTROL\"].drop(\"experiment_variant_code\",axis = 1)\n",
        "test = df[df[\"experiment_variant_code\"] == \"VARIANT\"].drop(\"experiment_variant_code\",axis = 1)\n",
        "features = [\"new_return_visitor\",\"platform_type\",\"posa_super_region\",\"marketing_channel\"]\n",
        "\n",
        "print(checkAdversarialLabel(train,test,features,sample_frac = 0.1,verbose = True))\n",
        "\n"
      ],
      "metadata": {
        "id": "hc1P9ICwlaGx",
        "colab": {
          "base_uri": "https://localhost:8080/"
        },
        "outputId": "14624600-dce3-42d6-bddd-a2a2824ddc99"
      },
      "execution_count": null,
      "outputs": [
        {
          "output_type": "stream",
          "name": "stdout",
          "text": [
            "Adverserial validation started...\n",
            "Sampling 0.1 of both datasets\n",
            "Combine A & B groups and create group label for each\n",
            "Run a classifier to distinguish between the 2 datasets\n"
          ]
        },
        {
          "output_type": "stream",
          "name": "stderr",
          "text": [
            "[Parallel(n_jobs=1)]: Using backend SequentialBackend with 1 concurrent workers.\n"
          ]
        },
        {
          "output_type": "stream",
          "name": "stdout",
          "text": [
            "ROC Score = 0.5026046946550645\n",
            "Adverserial validation finished.\n",
            "True\n"
          ]
        },
        {
          "output_type": "stream",
          "name": "stderr",
          "text": [
            "[Parallel(n_jobs=1)]: Done   2 out of   2 | elapsed:   54.8s finished\n"
          ]
        }
      ]
    },
    {
      "cell_type": "markdown",
      "source": [
        "### Utils: Perform chisqr tests on covariates"
      ],
      "metadata": {
        "id": "DG-T18pYhVcz"
      }
    },
    {
      "cell_type": "code",
      "source": [
        "def checkCovBalance(A_group,\n",
        "               B_group,\n",
        "               covariates,\n",
        "               alpha = 0.05,\n",
        "               verbose = False\n",
        "              ):\n",
        "  \"\"\"\n",
        "  Check if the group variants are balanced based on chi square tests\n",
        "\n",
        "  Parameters:\n",
        "  * A_group: Group A\n",
        "  * B_group: Group B\n",
        "  * covariates: List of covariates\n",
        "  * alpha: Critical value (default 5%)\n",
        "  * verbose: if True then print all step status\n",
        "\n",
        "  Returns: List of unbalanced covariates (empty if not)\n",
        "  \"\"\" \n",
        " \n",
        "  from scipy.stats import chi2_contingency\n",
        "\n",
        "  if verbose == True:\n",
        "    print(\"Covariate balancing check using Chisqr test...\")\n",
        "\n",
        "  if len(covariates) < 1:\n",
        "    return False\n",
        "\n",
        "  A_deepcopy = A_group.copy(deep = True)\n",
        "  B_deepcopy = B_group.copy(deep = True)\n",
        "\n",
        "  # label group\n",
        "  A_deepcopy[\"group_\"] = \"A\"\n",
        "  B_deepcopy[\"group_\"] = \"B\"\n",
        "\n",
        "  # Prepare a dataset by combining A & B \n",
        "  if verbose == True:\n",
        "    print(\"Combine A & B groups and create group label for each\")\n",
        "  AB_df = A_deepcopy.append(B_deepcopy) \n",
        "\n",
        "  output_list = []\n",
        "\n",
        "  for cov in covariates:\n",
        "      pct = pd.crosstab(AB_df[cov],AB_df[\"group_\"],normalize = \"columns\")\n",
        "      _, p, _, _ = chi2_contingency(pct) \n",
        "\n",
        "      if verbose == True:\n",
        "        print(\"Covariate {}:\".format(cov))\n",
        "        print(pct)\n",
        "        print(\"p_val = {}\".format(p))\n",
        "        print()\n",
        "      \n",
        "      if p <= alpha:\n",
        "        output_list.append(cov)\n",
        "  \n",
        "  return output_list  "
      ],
      "metadata": {
        "id": "K8g3ESJU3frv"
      },
      "execution_count": null,
      "outputs": []
    },
    {
      "cell_type": "code",
      "source": [
        "# create a test case\n",
        "train = df[df[\"experiment_variant_code\"]== \"CONTROL\"].drop(\"experiment_variant_code\",axis = 1)\n",
        "test = df[df[\"experiment_variant_code\"] == \"VARIANT\"].drop(\"experiment_variant_code\",axis = 1)\n",
        "features = [\"new_return_visitor\",\"platform_type\",\"posa_super_region\",\"marketing_channel\"]\n",
        "\n",
        "print(checkCovBalance(train,test,features,verbose = False))"
      ],
      "metadata": {
        "colab": {
          "base_uri": "https://localhost:8080/"
        },
        "id": "GqbivbXghdr5",
        "outputId": "72d42e3f-1015-4b67-ebf9-a8da8782a3e4"
      },
      "execution_count": null,
      "outputs": [
        {
          "output_type": "stream",
          "name": "stdout",
          "text": [
            "[]\n"
          ]
        }
      ]
    },
    {
      "cell_type": "code",
      "source": [
        "def detectTailedOutlier(A_group,\n",
        "                        B_group,\n",
        "                        targets,\n",
        "                        remove_outlier = False,\n",
        "                        tail_quantile_level = 0.99,\n",
        "                        verbose = False):\n",
        "  \n",
        "  \"\"\"\n",
        "  Detect outliers based on tailed quantile with option of outlier removal\n",
        "\n",
        "  Parameters:\n",
        "  * A_group: Group A\n",
        "  * B_group: Group B\n",
        "  * target: Target variables\n",
        "  * remove_outlier: Option to remove outlier (default False)\n",
        "  * tail_quantile_level: The quantile beyond which the outlier is determined\n",
        "  * verbose: if True then print all step status\n",
        "\n",
        "  Returns: \n",
        "  * List of outlier level corresponding to each target (dict type)\n",
        "  * A_group outliers removed if remove_outlier = True\n",
        "  * B_group outliers removed if remove_outlier = True\n",
        "  \"\"\" \n",
        "\n",
        "  if verbose == True:\n",
        "    print(\"Detect outliers by quantiles...\")\n",
        "  \n",
        "  if len(targets) < 1:\n",
        "    return None, A_group, B_group\n",
        "\n",
        "  A_deepcopy = A_group.copy(deep = True)\n",
        "  B_deepcopy = B_group.copy(deep = True)\n",
        "\n",
        "  # label group\n",
        "  A_deepcopy[\"group_\"] = \"A\"\n",
        "  B_deepcopy[\"group_\"] = \"B\"\n",
        "\n",
        "  AB_df = A_deepcopy.append(B_deepcopy) \n",
        "\n",
        "  sum_stats = AB_df[targets].describe([0.01, 0.05, 0.20, 0.50, 0.80, 0.95, 0.99])\n",
        "\n",
        "  if verbose == True:\n",
        "    print(\"Pre-removal of outliers:\")\n",
        "    print(sum_stats.T)\n",
        "    print()\n",
        "\n",
        "  outliers = {}\n",
        "\n",
        "  for tg in targets:\n",
        "    outliers[tg] = AB_df[tg].quantile(tail_quantile_level)\n",
        "    if remove_outlier:\n",
        "      AB_df = AB_df[AB_df[tg] <= outliers[tg]]\n",
        "      A_deepcopy = A_deepcopy[A_deepcopy[tg] <= outliers[tg]]\n",
        "      B_deepcopy = B_deepcopy[B_deepcopy[tg] <= outliers[tg]]\n",
        "\n",
        "  if verbose == True:\n",
        "    sum_stats = AB_df[targets].describe([0.01, 0.05, 0.20, 0.50, 0.80, 0.95, 0.99])\n",
        "    print(\"Post_removal of outliers:\")\n",
        "    print(sum_stats.T)\n",
        "\n",
        "  \n",
        "  return outliers, A_deepcopy, B_deepcopy\n"
      ],
      "metadata": {
        "id": "IajrkwHhhdfE"
      },
      "execution_count": 26,
      "outputs": []
    },
    {
      "cell_type": "code",
      "source": [
        "# create a test case\n",
        "train = df[df[\"experiment_variant_code\"]== \"CONTROL\"].drop(\"experiment_variant_code\",axis = 1)\n",
        "test = df[df[\"experiment_variant_code\"] == \"VARIANT\"].drop(\"experiment_variant_code\",axis = 1)\n",
        "features = [\"new_return_visitor\",\"platform_type\",\"posa_super_region\",\"marketing_channel\"]\n",
        "targets = [\"orders\",\"room_nights\",\"booking_gbv\"]\n",
        "ls,train,test= detectTailedOutlier(train,\n",
        "                                   test,\n",
        "                                   targets,\n",
        "                                   remove_outlier = True, \n",
        "                                   verbose = True)"
      ],
      "metadata": {
        "id": "JbnUGuJJk1RF",
        "outputId": "66a40fc9-e1eb-4d73-c790-1cd0a45029fd",
        "colab": {
          "base_uri": "https://localhost:8080/"
        }
      },
      "execution_count": 8,
      "outputs": [
        {
          "output_type": "stream",
          "name": "stdout",
          "text": [
            "Detect outliers by quantiles...\n",
            "Pre-removal of outliers:\n",
            "                 count       mean           std  min   1%   5%  20%  50%  80%  \\\n",
            "orders       1948770.0   0.169919      1.719938  0.0  0.0  0.0  0.0  0.0  0.0   \n",
            "room_nights  1948770.0   0.386600      4.578911  0.0  0.0  0.0  0.0  0.0  0.0   \n",
            "booking_gbv  1948770.0  62.053404  15230.745479  0.0  0.0  0.0  0.0  0.0  0.0   \n",
            "\n",
            "                  95%        99%         max  \n",
            "orders         1.0000     3.0000      1185.0  \n",
            "room_nights    2.0000     8.0000      1569.0  \n",
            "booking_gbv  180.7516  1099.0882  21245984.0  \n",
            "\n",
            "Post_removal of outliers:\n",
            "                 count       mean        std  min   1%   5%  20%  50%  80%  \\\n",
            "orders       1895927.0   0.070207   0.301279  0.0  0.0  0.0  0.0  0.0  0.0   \n",
            "room_nights  1895927.0   0.106461   0.491195  0.0  0.0  0.0  0.0  0.0  0.0   \n",
            "booking_gbv  1895927.0  10.486396  49.949332  0.0  0.0  0.0  0.0  0.0  0.0   \n",
            "\n",
            "                   95%         99%     max  \n",
            "orders        1.000000    1.000000    3.00  \n",
            "room_nights   1.000000    3.000000    5.00  \n",
            "booking_gbv  67.459616  299.072858  471.66  \n"
          ]
        }
      ]
    },
    {
      "cell_type": "markdown",
      "source": [
        "### Utils: Test normality of a given group using Shapiro test"
      ],
      "metadata": {
        "id": "4ic5m5u9IqUf"
      }
    },
    {
      "cell_type": "code",
      "source": [
        "def checkNormality(group,\n",
        "                  targets,\n",
        "                  alpha = 0.05,\n",
        "                  plot_dist = False,\n",
        "                  verbose = False):\n",
        "  \n",
        "  \"\"\"\n",
        "  Check normality of the targett variables. If sample size is larger than 5000,\n",
        "  use Shapiro-Wilk test (parametric). Otherwise, use Kolmogorov-Smirnoff test \n",
        "  (non-parametric)\n",
        "\n",
        "  Parameters:\n",
        "  * group: Input data\n",
        "  * targets: Taget variables (list if multiple)\n",
        "  * alpha: Critical value (default 0.05)\n",
        "  * plot_dist: Plot histogram & density function if True (default False)\n",
        "  * verbose:  print all step statuses if True (default False)\n",
        "\n",
        "  Returns: \n",
        "  * Targets that are not normally distributed\n",
        "  \"\"\" \n",
        "  if verbose == True:\n",
        "    print(\"Test normality of the group...\")\n",
        "\n",
        "  from scipy import stats\n",
        "  import matplotlib.pyplot as plt\n",
        "  import seaborn as sns\n",
        "\n",
        "\n",
        "  non_normal_targets = []\n",
        "  N_sample = len(group) \n",
        "  if plot_dist:\n",
        "    _,axes = plt.subplots(len(targets) // 3,\n",
        "                          (len(targets)-1) % 3 + 1,\n",
        "                          figsize = (15,4))\n",
        "\n",
        "  for idx,tg in enumerate(targets):\n",
        "    \n",
        "    # if plot_dist set to True, plot the histogram & density function\n",
        "    if plot_dist:\n",
        "      sns.histplot(group[tg] , \n",
        "                   color=\"skyblue\", \n",
        "                   kde = True, \n",
        "                   stat = \"density\",\n",
        "                   label=tg,\n",
        "                   ax = axes[idx])\n",
        "\n",
        "    # if sample size is less than 5000, use Shapiro-Wilk test\n",
        "    if N_sample < 5000:\n",
        "      _, pval  = stats.shapiro(group[tg])\n",
        "    # else use Kolmogorv-Smirnoff test against norm\n",
        "    else:\n",
        "      _, pval = stats.kstest(group[tg],stats.norm.cdf)\n",
        "\n",
        "    if pval < alpha:\n",
        "      non_normal_targets.append(tg)\n",
        "\n",
        "    if verbose:\n",
        "      print(\"Target {}: pval = {}\".format(tg,pval))\n",
        "\n",
        "  return non_normal_targets"
      ],
      "metadata": {
        "id": "fh7L_W-WIpds"
      },
      "execution_count": 24,
      "outputs": []
    },
    {
      "cell_type": "code",
      "source": [
        "# create a few test cases\n",
        "checkNormality(train[train[\"conv_ind\"]>0],targets,plot_dist = True,verbose = True)"
      ],
      "metadata": {
        "id": "Kkny3LYFOxMy",
        "outputId": "25451422-7ca5-4cbe-edbb-00e746e13028",
        "colab": {
          "base_uri": "https://localhost:8080/",
          "height": 367
        }
      },
      "execution_count": 25,
      "outputs": [
        {
          "output_type": "stream",
          "name": "stdout",
          "text": [
            "Test normality of the group...\n",
            "Covariate orders: pval = 0.0\n",
            "Covariate room_nights: pval = 0.0\n",
            "Covariate booking_gbv: pval = 0.0\n"
          ]
        },
        {
          "output_type": "execute_result",
          "data": {
            "text/plain": [
              "['orders', 'room_nights', 'booking_gbv']"
            ]
          },
          "metadata": {},
          "execution_count": 25
        },
        {
          "output_type": "display_data",
          "data": {
            "text/plain": [
              "<Figure size 1080x288 with 3 Axes>"
            ],
            "image/png": "[encoded data removed]"
          },
          "metadata": {
            "needs_background": "light"
          }
        }
      ]
    },
    {
      "cell_type": "code",
      "source": [
        "def checkVariance(A_group,\n",
        "                  B_group,\n",
        "                  targets,\n",
        "                  alpha = 0.05,\n",
        "                  plot_dist = False,\n",
        "                  verbose = False):\n",
        "  \n",
        "  \"\"\"\n",
        "  Check homogeneity of variance for the 2 variants using Levene test\n",
        "\n",
        "  Parameters:\n",
        "  * A_group: Group A\n",
        "  * B_group: Group B\n",
        "  * targets: Taget variables (list if multiple)\n",
        "  * alpha: Critical value (default 0.05)\n",
        "  * plot_dist: Plot histogram & density function if True (default False)\n",
        "  * verbose:  print all step statuses if True (default False)\n",
        "\n",
        "  Returns: \n",
        "  * Targets that are not normally distributed\n",
        "  \"\"\" \n",
        "  if verbose == True:\n",
        "    print(\"Test homogeneity of variance of the group...\")\n",
        "\n",
        "  from scipy import stats\n",
        "  import matplotlib.pyplot as plt\n",
        "  import seaborn as sns\n",
        "\n",
        "  non_homog_targets = []\n",
        "\n",
        "  if plot_dist:\n",
        "    _,axes = plt.subplots(len(targets),\n",
        "                          2,\n",
        "                          figsize = (10,4))\n",
        "\n",
        "  for idx,tg in enumerate(targets):\n",
        "    \n",
        "    # if plot_dist set to True, plot the histogram & density function\n",
        "    if plot_dist:\n",
        "      sns.histplot(A_group[tg],color=\"skyblue\",kde = True,stat = \"density\",label=tg,ax = axes[idx,0])\n",
        "      sns.histplot(B_group[tg],color=\"red\",kde = True,stat = \"density\",label=tg,ax = axes[idx,1])\n",
        "\n",
        "\n",
        "    # if sample size is less than 5000, use Shapiro-Wilk test\n",
        "    _, pval = stats.levene(A_group[tg],B_group[tg])\n",
        "\n",
        "    if pval < alpha:\n",
        "      non_homog_targets.append(tg)\n",
        "\n",
        "    if verbose:\n",
        "      print(\"Target {}: pval = {}\".format(tg,pval))\n",
        "\n",
        "  return non_homog_targets"
      ],
      "metadata": {
        "id": "7DMozx3XOIKZ"
      },
      "execution_count": 27,
      "outputs": []
    },
    {
      "cell_type": "code",
      "source": [
        "# create a few test cases\n",
        "checkNormality(train[train[\"conv_ind\"]>0],\n",
        "               test[test[\"conv_ind\"]>0],\n",
        "               targets,\n",
        "               plot_dist = True,\n",
        "               verbose = True)"
      ],
      "metadata": {
        "id": "Oa6KuFurQ0vU",
        "outputId": "9959ef3d-1558-4590-b13b-55d0f9b08450",
        "colab": {
          "base_uri": "https://localhost:8080/",
          "height": 398
        }
      },
      "execution_count": null,
      "outputs": [
        {
          "metadata": {
            "tags": null
          },
          "name": "stdout",
          "output_type": "stream",
          "text": [
            "Test normality of the group...\n"
          ]
        },
        {
          "output_type": "error",
          "ename": "KeyboardInterrupt",
          "evalue": "ignored",
          "traceback": [
            "\u001b[0;31m---------------------------------------------------------------------------\u001b[0m",
            "\u001b[0;31mKeyboardInterrupt\u001b[0m                         Traceback (most recent call last)",
            "\u001b[0;32m<ipython-input-30-20741348db70>\u001b[0m in \u001b[0;36m<module>\u001b[0;34m\u001b[0m\n\u001b[1;32m      1\u001b[0m \u001b[0;31m# create a few test cases\u001b[0m\u001b[0;34m\u001b[0m\u001b[0;34m\u001b[0m\u001b[0;34m\u001b[0m\u001b[0m\n\u001b[0;32m----> 2\u001b[0;31m checkNormality(train[train[\"conv_ind\"]>0],\n\u001b[0m\u001b[1;32m      3\u001b[0m                \u001b[0mtest\u001b[0m\u001b[0;34m[\u001b[0m\u001b[0mtest\u001b[0m\u001b[0;34m[\u001b[0m\u001b[0;34m\"conv_ind\"\u001b[0m\u001b[0;34m]\u001b[0m\u001b[0;34m>\u001b[0m\u001b[0;36m0\u001b[0m\u001b[0;34m]\u001b[0m\u001b[0;34m,\u001b[0m\u001b[0;34m\u001b[0m\u001b[0;34m\u001b[0m\u001b[0m\n\u001b[1;32m      4\u001b[0m                \u001b[0mtargets\u001b[0m\u001b[0;34m,\u001b[0m\u001b[0;34m\u001b[0m\u001b[0;34m\u001b[0m\u001b[0m\n\u001b[1;32m      5\u001b[0m                \u001b[0mplot_dist\u001b[0m \u001b[0;34m=\u001b[0m \u001b[0;32mTrue\u001b[0m\u001b[0;34m,\u001b[0m\u001b[0;34m\u001b[0m\u001b[0;34m\u001b[0m\u001b[0m\n",
            "\u001b[0;32m<ipython-input-24-e34a581d4562>\u001b[0m in \u001b[0;36mcheckNormality\u001b[0;34m(group, targets, alpha, plot_dist, verbose)\u001b[0m\n\u001b[1;32m     32\u001b[0m   \u001b[0mN_sample\u001b[0m \u001b[0;34m=\u001b[0m \u001b[0mlen\u001b[0m\u001b[0;34m(\u001b[0m\u001b[0mgroup\u001b[0m\u001b[0;34m)\u001b[0m\u001b[0;34m\u001b[0m\u001b[0;34m\u001b[0m\u001b[0m\n\u001b[1;32m     33\u001b[0m   \u001b[0;32mif\u001b[0m \u001b[0mplot_dist\u001b[0m\u001b[0;34m:\u001b[0m\u001b[0;34m\u001b[0m\u001b[0;34m\u001b[0m\u001b[0m\n\u001b[0;32m---> 34\u001b[0;31m     _,axes = plt.subplots(len(targets) // 3,\n\u001b[0m\u001b[1;32m     35\u001b[0m                           (len(targets)-1) % 3 + 1,figsize = (15,4))\n\u001b[1;32m     36\u001b[0m \u001b[0;34m\u001b[0m\u001b[0m\n",
            "\u001b[0;32m/usr/local/lib/python3.8/dist-packages/matplotlib/pyplot.py\u001b[0m in \u001b[0;36msubplots\u001b[0;34m(nrows, ncols, sharex, sharey, squeeze, subplot_kw, gridspec_kw, **fig_kw)\u001b[0m\n\u001b[1;32m   1176\u001b[0m     \"\"\"\n\u001b[1;32m   1177\u001b[0m     \u001b[0mfig\u001b[0m \u001b[0;34m=\u001b[0m \u001b[0mfigure\u001b[0m\u001b[0;34m(\u001b[0m\u001b[0;34m**\u001b[0m\u001b[0mfig_kw\u001b[0m\u001b[0;34m)\u001b[0m\u001b[0;34m\u001b[0m\u001b[0;34m\u001b[0m\u001b[0m\n\u001b[0;32m-> 1178\u001b[0;31m     axs = fig.subplots(nrows=nrows, ncols=ncols, sharex=sharex, sharey=sharey,\n\u001b[0m\u001b[1;32m   1179\u001b[0m                        \u001b[0msqueeze\u001b[0m\u001b[0;34m=\u001b[0m\u001b[0msqueeze\u001b[0m\u001b[0;34m,\u001b[0m \u001b[0msubplot_kw\u001b[0m\u001b[0;34m=\u001b[0m\u001b[0msubplot_kw\u001b[0m\u001b[0;34m,\u001b[0m\u001b[0;34m\u001b[0m\u001b[0;34m\u001b[0m\u001b[0m\n\u001b[1;32m   1180\u001b[0m                        gridspec_kw=gridspec_kw)\n",
            "\u001b[0;32m/usr/local/lib/python3.8/dist-packages/matplotlib/figure.py\u001b[0m in \u001b[0;36msubplots\u001b[0;34m(self, nrows, ncols, sharex, sharey, squeeze, subplot_kw, gridspec_kw)\u001b[0m\n\u001b[1;32m   1574\u001b[0m                 \u001b[0msubplot_kw\u001b[0m\u001b[0;34m[\u001b[0m\u001b[0;34m\"sharex\"\u001b[0m\u001b[0;34m]\u001b[0m \u001b[0;34m=\u001b[0m \u001b[0mshared_with\u001b[0m\u001b[0;34m[\u001b[0m\u001b[0msharex\u001b[0m\u001b[0;34m]\u001b[0m\u001b[0;34m\u001b[0m\u001b[0;34m\u001b[0m\u001b[0m\n\u001b[1;32m   1575\u001b[0m                 \u001b[0msubplot_kw\u001b[0m\u001b[0;34m[\u001b[0m\u001b[0;34m\"sharey\"\u001b[0m\u001b[0;34m]\u001b[0m \u001b[0;34m=\u001b[0m \u001b[0mshared_with\u001b[0m\u001b[0;34m[\u001b[0m\u001b[0msharey\u001b[0m\u001b[0;34m]\u001b[0m\u001b[0;34m\u001b[0m\u001b[0;34m\u001b[0m\u001b[0m\n\u001b[0;32m-> 1576\u001b[0;31m                 \u001b[0maxarr\u001b[0m\u001b[0;34m[\u001b[0m\u001b[0mrow\u001b[0m\u001b[0;34m,\u001b[0m \u001b[0mcol\u001b[0m\u001b[0;34m]\u001b[0m \u001b[0;34m=\u001b[0m \u001b[0mself\u001b[0m\u001b[0;34m.\u001b[0m\u001b[0madd_subplot\u001b[0m\u001b[0;34m(\u001b[0m\u001b[0mgs\u001b[0m\u001b[0;34m[\u001b[0m\u001b[0mrow\u001b[0m\u001b[0;34m,\u001b[0m \u001b[0mcol\u001b[0m\u001b[0;34m]\u001b[0m\u001b[0;34m,\u001b[0m \u001b[0;34m**\u001b[0m\u001b[0msubplot_kw\u001b[0m\u001b[0;34m)\u001b[0m\u001b[0;34m\u001b[0m\u001b[0;34m\u001b[0m\u001b[0m\n\u001b[0m\u001b[1;32m   1577\u001b[0m \u001b[0;34m\u001b[0m\u001b[0m\n\u001b[1;32m   1578\u001b[0m         \u001b[0;31m# turn off redundant tick labeling\u001b[0m\u001b[0;34m\u001b[0m\u001b[0;34m\u001b[0m\u001b[0;34m\u001b[0m\u001b[0m\n",
            "\u001b[0;32m/usr/local/lib/python3.8/dist-packages/matplotlib/figure.py\u001b[0m in \u001b[0;36madd_subplot\u001b[0;34m(self, *args, **kwargs)\u001b[0m\n\u001b[1;32m   1419\u001b[0m             \u001b[0ma\u001b[0m \u001b[0;34m=\u001b[0m \u001b[0msubplot_class_factory\u001b[0m\u001b[0;34m(\u001b[0m\u001b[0mprojection_class\u001b[0m\u001b[0;34m)\u001b[0m\u001b[0;34m(\u001b[0m\u001b[0mself\u001b[0m\u001b[0;34m,\u001b[0m \u001b[0;34m*\u001b[0m\u001b[0margs\u001b[0m\u001b[0;34m,\u001b[0m \u001b[0;34m**\u001b[0m\u001b[0mkwargs\u001b[0m\u001b[0;34m)\u001b[0m\u001b[0;34m\u001b[0m\u001b[0;34m\u001b[0m\u001b[0m\n\u001b[1;32m   1420\u001b[0m \u001b[0;34m\u001b[0m\u001b[0m\n\u001b[0;32m-> 1421\u001b[0;31m         \u001b[0;32mreturn\u001b[0m \u001b[0mself\u001b[0m\u001b[0;34m.\u001b[0m\u001b[0m_add_axes_internal\u001b[0m\u001b[0;34m(\u001b[0m\u001b[0mkey\u001b[0m\u001b[0;34m,\u001b[0m \u001b[0ma\u001b[0m\u001b[0;34m)\u001b[0m\u001b[0;34m\u001b[0m\u001b[0;34m\u001b[0m\u001b[0m\n\u001b[0m\u001b[1;32m   1422\u001b[0m \u001b[0;34m\u001b[0m\u001b[0m\n\u001b[1;32m   1423\u001b[0m     \u001b[0;32mdef\u001b[0m \u001b[0m_add_axes_internal\u001b[0m\u001b[0;34m(\u001b[0m\u001b[0mself\u001b[0m\u001b[0;34m,\u001b[0m \u001b[0mkey\u001b[0m\u001b[0;34m,\u001b[0m \u001b[0max\u001b[0m\u001b[0;34m)\u001b[0m\u001b[0;34m:\u001b[0m\u001b[0;34m\u001b[0m\u001b[0;34m\u001b[0m\u001b[0m\n",
            "\u001b[0;32m/usr/local/lib/python3.8/dist-packages/matplotlib/figure.py\u001b[0m in \u001b[0;36m_add_axes_internal\u001b[0;34m(self, key, ax)\u001b[0m\n\u001b[1;32m   1424\u001b[0m         \u001b[0;34m\"\"\"Private helper for `add_axes` and `add_subplot`.\"\"\"\u001b[0m\u001b[0;34m\u001b[0m\u001b[0;34m\u001b[0m\u001b[0m\n\u001b[1;32m   1425\u001b[0m         \u001b[0mself\u001b[0m\u001b[0;34m.\u001b[0m\u001b[0m_axstack\u001b[0m\u001b[0;34m.\u001b[0m\u001b[0madd\u001b[0m\u001b[0;34m(\u001b[0m\u001b[0mkey\u001b[0m\u001b[0;34m,\u001b[0m \u001b[0max\u001b[0m\u001b[0;34m)\u001b[0m\u001b[0;34m\u001b[0m\u001b[0;34m\u001b[0m\u001b[0m\n\u001b[0;32m-> 1426\u001b[0;31m         \u001b[0mself\u001b[0m\u001b[0;34m.\u001b[0m\u001b[0msca\u001b[0m\u001b[0;34m(\u001b[0m\u001b[0max\u001b[0m\u001b[0;34m)\u001b[0m\u001b[0;34m\u001b[0m\u001b[0;34m\u001b[0m\u001b[0m\n\u001b[0m\u001b[1;32m   1427\u001b[0m         \u001b[0max\u001b[0m\u001b[0;34m.\u001b[0m\u001b[0m_remove_method\u001b[0m \u001b[0;34m=\u001b[0m \u001b[0mself\u001b[0m\u001b[0;34m.\u001b[0m\u001b[0m_remove_ax\u001b[0m\u001b[0;34m\u001b[0m\u001b[0;34m\u001b[0m\u001b[0m\n\u001b[1;32m   1428\u001b[0m         \u001b[0mself\u001b[0m\u001b[0;34m.\u001b[0m\u001b[0mstale\u001b[0m \u001b[0;34m=\u001b[0m \u001b[0;32mTrue\u001b[0m\u001b[0;34m\u001b[0m\u001b[0;34m\u001b[0m\u001b[0m\n",
            "\u001b[0;32m/usr/local/lib/python3.8/dist-packages/matplotlib/figure.py\u001b[0m in \u001b[0;36msca\u001b[0;34m(self, a)\u001b[0m\n\u001b[1;32m   1959\u001b[0m     \u001b[0;32mdef\u001b[0m \u001b[0msca\u001b[0m\u001b[0;34m(\u001b[0m\u001b[0mself\u001b[0m\u001b[0;34m,\u001b[0m \u001b[0ma\u001b[0m\u001b[0;34m)\u001b[0m\u001b[0;34m:\u001b[0m\u001b[0;34m\u001b[0m\u001b[0;34m\u001b[0m\u001b[0m\n\u001b[1;32m   1960\u001b[0m         \u001b[0;34m\"\"\"Set the current axes to be a and return a.\"\"\"\u001b[0m\u001b[0;34m\u001b[0m\u001b[0;34m\u001b[0m\u001b[0m\n\u001b[0;32m-> 1961\u001b[0;31m         \u001b[0mself\u001b[0m\u001b[0;34m.\u001b[0m\u001b[0m_axstack\u001b[0m\u001b[0;34m.\u001b[0m\u001b[0mbubble\u001b[0m\u001b[0;34m(\u001b[0m\u001b[0ma\u001b[0m\u001b[0;34m)\u001b[0m\u001b[0;34m\u001b[0m\u001b[0;34m\u001b[0m\u001b[0m\n\u001b[0m\u001b[1;32m   1962\u001b[0m         \u001b[0;32mfor\u001b[0m \u001b[0mfunc\u001b[0m \u001b[0;32min\u001b[0m \u001b[0mself\u001b[0m\u001b[0;34m.\u001b[0m\u001b[0m_axobservers\u001b[0m\u001b[0;34m:\u001b[0m\u001b[0;34m\u001b[0m\u001b[0;34m\u001b[0m\u001b[0m\n\u001b[1;32m   1963\u001b[0m             \u001b[0mfunc\u001b[0m\u001b[0;34m(\u001b[0m\u001b[0mself\u001b[0m\u001b[0;34m)\u001b[0m\u001b[0;34m\u001b[0m\u001b[0;34m\u001b[0m\u001b[0m\n",
            "\u001b[0;32m/usr/local/lib/python3.8/dist-packages/matplotlib/figure.py\u001b[0m in \u001b[0;36mbubble\u001b[0;34m(self, a)\u001b[0m\n\u001b[1;32m    107\u001b[0m         \u001b[0mstack\u001b[0m\u001b[0;34m,\u001b[0m \u001b[0mto\u001b[0m \u001b[0mthe\u001b[0m \u001b[0mtop\u001b[0m\u001b[0;34m.\u001b[0m\u001b[0;34m\u001b[0m\u001b[0;34m\u001b[0m\u001b[0m\n\u001b[1;32m    108\u001b[0m         \"\"\"\n\u001b[0;32m--> 109\u001b[0;31m         \u001b[0;32mreturn\u001b[0m \u001b[0msuper\u001b[0m\u001b[0;34m(\u001b[0m\u001b[0;34m)\u001b[0m\u001b[0;34m.\u001b[0m\u001b[0mbubble\u001b[0m\u001b[0;34m(\u001b[0m\u001b[0mself\u001b[0m\u001b[0;34m.\u001b[0m\u001b[0m_entry_from_axes\u001b[0m\u001b[0;34m(\u001b[0m\u001b[0ma\u001b[0m\u001b[0;34m)\u001b[0m\u001b[0;34m)\u001b[0m\u001b[0;34m\u001b[0m\u001b[0;34m\u001b[0m\u001b[0m\n\u001b[0m\u001b[1;32m    110\u001b[0m \u001b[0;34m\u001b[0m\u001b[0m\n\u001b[1;32m    111\u001b[0m     \u001b[0;32mdef\u001b[0m \u001b[0madd\u001b[0m\u001b[0;34m(\u001b[0m\u001b[0mself\u001b[0m\u001b[0;34m,\u001b[0m \u001b[0mkey\u001b[0m\u001b[0;34m,\u001b[0m \u001b[0ma\u001b[0m\u001b[0;34m)\u001b[0m\u001b[0;34m:\u001b[0m\u001b[0;34m\u001b[0m\u001b[0;34m\u001b[0m\u001b[0m\n",
            "\u001b[0;32m/usr/local/lib/python3.8/dist-packages/matplotlib/cbook/__init__.py\u001b[0m in \u001b[0;36mbubble\u001b[0;34m(self, o)\u001b[0m\n\u001b[1;32m    644\u001b[0m                 \u001b[0mbubbles\u001b[0m\u001b[0;34m.\u001b[0m\u001b[0mappend\u001b[0m\u001b[0;34m(\u001b[0m\u001b[0mthiso\u001b[0m\u001b[0;34m)\u001b[0m\u001b[0;34m\u001b[0m\u001b[0;34m\u001b[0m\u001b[0m\n\u001b[1;32m    645\u001b[0m             \u001b[0;32melse\u001b[0m\u001b[0;34m:\u001b[0m\u001b[0;34m\u001b[0m\u001b[0;34m\u001b[0m\u001b[0m\n\u001b[0;32m--> 646\u001b[0;31m                 \u001b[0mself\u001b[0m\u001b[0;34m.\u001b[0m\u001b[0mpush\u001b[0m\u001b[0;34m(\u001b[0m\u001b[0mthiso\u001b[0m\u001b[0;34m)\u001b[0m\u001b[0;34m\u001b[0m\u001b[0;34m\u001b[0m\u001b[0m\n\u001b[0m\u001b[1;32m    647\u001b[0m         \u001b[0;32mfor\u001b[0m \u001b[0m_\u001b[0m \u001b[0;32min\u001b[0m \u001b[0mbubbles\u001b[0m\u001b[0;34m:\u001b[0m\u001b[0;34m\u001b[0m\u001b[0;34m\u001b[0m\u001b[0m\n\u001b[1;32m    648\u001b[0m             \u001b[0mself\u001b[0m\u001b[0;34m.\u001b[0m\u001b[0mpush\u001b[0m\u001b[0;34m(\u001b[0m\u001b[0mo\u001b[0m\u001b[0;34m)\u001b[0m\u001b[0;34m\u001b[0m\u001b[0;34m\u001b[0m\u001b[0m\n",
            "\u001b[0;32m/usr/local/lib/python3.8/dist-packages/matplotlib/cbook/__init__.py\u001b[0m in \u001b[0;36mpush\u001b[0;34m(self, o)\u001b[0m\n\u001b[1;32m    605\u001b[0m         \u001b[0;34m*\u001b[0m\u001b[0mo\u001b[0m\u001b[0;34m*\u001b[0m \u001b[0;32mis\u001b[0m \u001b[0mreturned\u001b[0m\u001b[0;34m.\u001b[0m\u001b[0;34m\u001b[0m\u001b[0;34m\u001b[0m\u001b[0m\n\u001b[1;32m    606\u001b[0m         \"\"\"\n\u001b[0;32m--> 607\u001b[0;31m         \u001b[0mself\u001b[0m\u001b[0;34m.\u001b[0m\u001b[0m_elements\u001b[0m \u001b[0;34m=\u001b[0m \u001b[0mself\u001b[0m\u001b[0;34m.\u001b[0m\u001b[0m_elements\u001b[0m\u001b[0;34m[\u001b[0m\u001b[0;34m:\u001b[0m\u001b[0mself\u001b[0m\u001b[0;34m.\u001b[0m\u001b[0m_pos\u001b[0m \u001b[0;34m+\u001b[0m \u001b[0;36m1\u001b[0m\u001b[0;34m]\u001b[0m \u001b[0;34m+\u001b[0m \u001b[0;34m[\u001b[0m\u001b[0mo\u001b[0m\u001b[0;34m]\u001b[0m\u001b[0;34m\u001b[0m\u001b[0;34m\u001b[0m\u001b[0m\n\u001b[0m\u001b[1;32m    608\u001b[0m         \u001b[0mself\u001b[0m\u001b[0;34m.\u001b[0m\u001b[0m_pos\u001b[0m \u001b[0;34m=\u001b[0m \u001b[0mlen\u001b[0m\u001b[0;34m(\u001b[0m\u001b[0mself\u001b[0m\u001b[0;34m.\u001b[0m\u001b[0m_elements\u001b[0m\u001b[0;34m)\u001b[0m \u001b[0;34m-\u001b[0m \u001b[0;36m1\u001b[0m\u001b[0;34m\u001b[0m\u001b[0;34m\u001b[0m\u001b[0m\n\u001b[1;32m    609\u001b[0m         \u001b[0;32mreturn\u001b[0m \u001b[0mself\u001b[0m\u001b[0;34m(\u001b[0m\u001b[0;34m)\u001b[0m\u001b[0;34m\u001b[0m\u001b[0;34m\u001b[0m\u001b[0m\n",
            "\u001b[0;31mKeyboardInterrupt\u001b[0m: "
          ]
        }
      ]
    }
  ]
}