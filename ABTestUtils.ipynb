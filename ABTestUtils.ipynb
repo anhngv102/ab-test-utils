{
  "nbformat": 4,
  "nbformat_minor": 0,
  "metadata": {
    "colab": {
      "provenance": [],
      "mount_file_id": "https://github.com/anhngv102/ab-test-utils/blob/main/ABTestUtils.ipynb",
      "authorship_tag": "ABX9TyNaOXp6I5b+ZAISFUIPpCg5"
    },
    "kernelspec": {
      "name": "python3",
      "display_name": "Python 3"
    },
    "language_info": {
      "name": "python"
    }
  },
  "cells": [
    {
      "cell_type": "code",
      "execution_count": 2,
      "metadata": {
        "id": "ZeGIxdKfjLrE"
      },
      "outputs": [],
      "source": [
        "import numpy as np\n",
        "import pandas as pd"
      ]
    },
    {
      "cell_type": "code",
      "source": [
        "# load and preprocess data\n",
        "#import os\n",
        "#os.listdir()\n",
        "\n",
        "__DATA_DIR__ = \"./drive/MyDrive/data-playground/sample_data_final.csv\"\n",
        "\n",
        "df = pd.read_csv(__DATA_DIR__,header = \"infer\")\n",
        "\n",
        "df = df.drop([\"user_id\",\n",
        "              \"orders\",\n",
        "              \"room_nights\",\n",
        "              \"booking_gbv\",\n",
        "              \"orders_outlier_ind\",\n",
        "              \"room_nights_outlier_ind\",\n",
        "              \"booking_gbv_outlier_ind\",\n",
        "              ],axis=1).reset_index(drop = True)\n",
        "\n",
        "df.head()"
      ],
      "metadata": {
        "colab": {
          "base_uri": "https://localhost:8080/",
          "height": 206
        },
        "id": "-Ge3e6fSkhrR",
        "outputId": "df896241-40f1-46bc-c27a-bb1a297e3036"
      },
      "execution_count": 4,
      "outputs": [
        {
          "output_type": "execute_result",
          "data": {
            "text/plain": [
              "   Unnamed: 0 experiment_variant_code new_return_visitor platform_type  \\\n",
              "0           0                 VARIANT             RETURN        MOBILE   \n",
              "1           1                 CONTROL                NEW        MOBILE   \n",
              "2           3                 VARIANT             RETURN       DESKTOP   \n",
              "3           4                 CONTROL                NEW        MOBILE   \n",
              "4           5                 VARIANT                NEW        MOBILE   \n",
              "\n",
              "  posa_super_region marketing_channel  conv_ind  \n",
              "0              EMEA               SEM         0  \n",
              "1              APAC               SEM         0  \n",
              "2              APAC              META         0  \n",
              "3              EMEA               SEM         0  \n",
              "4              N_AM            DIRECT         0  "
            ],
            "text/html": [
              "\n",
              "  <div id=\"df-0e77b2ad-4cc6-47dd-b2ab-533049cbb0a8\">\n",
              "    <div class=\"colab-df-container\">\n",
              "      <div>\n",
              "<style scoped>\n",
              "    .dataframe tbody tr th:only-of-type {\n",
              "        vertical-align: middle;\n",
              "    }\n",
              "\n",
              "    .dataframe tbody tr th {\n",
              "        vertical-align: top;\n",
              "    }\n",
              "\n",
              "    .dataframe thead th {\n",
              "        text-align: right;\n",
              "    }\n",
              "</style>\n",
              "<table border=\"1\" class=\"dataframe\">\n",
              "  <thead>\n",
              "    <tr style=\"text-align: right;\">\n",
              "      <th></th>\n",
              "      <th>Unnamed: 0</th>\n",
              "      <th>experiment_variant_code</th>\n",
              "      <th>new_return_visitor</th>\n",
              "      <th>platform_type</th>\n",
              "      <th>posa_super_region</th>\n",
              "      <th>marketing_channel</th>\n",
              "      <th>conv_ind</th>\n",
              "    </tr>\n",
              "  </thead>\n",
              "  <tbody>\n",
              "    <tr>\n",
              "      <th>0</th>\n",
              "      <td>0</td>\n",
              "      <td>VARIANT</td>\n",
              "      <td>RETURN</td>\n",
              "      <td>MOBILE</td>\n",
              "      <td>EMEA</td>\n",
              "      <td>SEM</td>\n",
              "      <td>0</td>\n",
              "    </tr>\n",
              "    <tr>\n",
              "      <th>1</th>\n",
              "      <td>1</td>\n",
              "      <td>CONTROL</td>\n",
              "      <td>NEW</td>\n",
              "      <td>MOBILE</td>\n",
              "      <td>APAC</td>\n",
              "      <td>SEM</td>\n",
              "      <td>0</td>\n",
              "    </tr>\n",
              "    <tr>\n",
              "      <th>2</th>\n",
              "      <td>3</td>\n",
              "      <td>VARIANT</td>\n",
              "      <td>RETURN</td>\n",
              "      <td>DESKTOP</td>\n",
              "      <td>APAC</td>\n",
              "      <td>META</td>\n",
              "      <td>0</td>\n",
              "    </tr>\n",
              "    <tr>\n",
              "      <th>3</th>\n",
              "      <td>4</td>\n",
              "      <td>CONTROL</td>\n",
              "      <td>NEW</td>\n",
              "      <td>MOBILE</td>\n",
              "      <td>EMEA</td>\n",
              "      <td>SEM</td>\n",
              "      <td>0</td>\n",
              "    </tr>\n",
              "    <tr>\n",
              "      <th>4</th>\n",
              "      <td>5</td>\n",
              "      <td>VARIANT</td>\n",
              "      <td>NEW</td>\n",
              "      <td>MOBILE</td>\n",
              "      <td>N_AM</td>\n",
              "      <td>DIRECT</td>\n",
              "      <td>0</td>\n",
              "    </tr>\n",
              "  </tbody>\n",
              "</table>\n",
              "</div>\n",
              "      <button class=\"colab-df-convert\" onclick=\"convertToInteractive('df-0e77b2ad-4cc6-47dd-b2ab-533049cbb0a8')\"\n",
              "              title=\"Convert this dataframe to an interactive table.\"\n",
              "              style=\"display:none;\">\n",
              "        \n",
              "  <svg xmlns=\"http://www.w3.org/2000/svg\" height=\"24px\"viewBox=\"0 0 24 24\"\n",
              "       width=\"24px\">\n",
              "    <path d=\"M0 0h24v24H0V0z\" fill=\"none\"/>\n",
              "    <path d=\"M18.56 5.44l.94 2.06.94-2.06 2.06-.94-2.06-.94-.94-2.06-.94 2.06-2.06.94zm-11 1L8.5 8.5l.94-2.06 2.06-.94-2.06-.94L8.5 2.5l-.94 2.06-2.06.94zm10 10l.94 2.06.94-2.06 2.06-.94-2.06-.94-.94-2.06-.94 2.06-2.06.94z\"/><path d=\"M17.41 7.96l-1.37-1.37c-.4-.4-.92-.59-1.43-.59-.52 0-1.04.2-1.43.59L10.3 9.45l-7.72 7.72c-.78.78-.78 2.05 0 2.83L4 21.41c.39.39.9.59 1.41.59.51 0 1.02-.2 1.41-.59l7.78-7.78 2.81-2.81c.8-.78.8-2.07 0-2.86zM5.41 20L4 18.59l7.72-7.72 1.47 1.35L5.41 20z\"/>\n",
              "  </svg>\n",
              "      </button>\n",
              "      \n",
              "  <style>\n",
              "    .colab-df-container {\n",
              "      display:flex;\n",
              "      flex-wrap:wrap;\n",
              "      gap: 12px;\n",
              "    }\n",
              "\n",
              "    .colab-df-convert {\n",
              "      background-color: #E8F0FE;\n",
              "      border: none;\n",
              "      border-radius: 50%;\n",
              "      cursor: pointer;\n",
              "      display: none;\n",
              "      fill: #1967D2;\n",
              "      height: 32px;\n",
              "      padding: 0 0 0 0;\n",
              "      width: 32px;\n",
              "    }\n",
              "\n",
              "    .colab-df-convert:hover {\n",
              "      background-color: #E2EBFA;\n",
              "      box-shadow: 0px 1px 2px rgba(60, 64, 67, 0.3), 0px 1px 3px 1px rgba(60, 64, 67, 0.15);\n",
              "      fill: #174EA6;\n",
              "    }\n",
              "\n",
              "    [theme=dark] .colab-df-convert {\n",
              "      background-color: #3B4455;\n",
              "      fill: #D2E3FC;\n",
              "    }\n",
              "\n",
              "    [theme=dark] .colab-df-convert:hover {\n",
              "      background-color: #434B5C;\n",
              "      box-shadow: 0px 1px 3px 1px rgba(0, 0, 0, 0.15);\n",
              "      filter: drop-shadow(0px 1px 2px rgba(0, 0, 0, 0.3));\n",
              "      fill: #FFFFFF;\n",
              "    }\n",
              "  </style>\n",
              "\n",
              "      <script>\n",
              "        const buttonEl =\n",
              "          document.querySelector('#df-0e77b2ad-4cc6-47dd-b2ab-533049cbb0a8 button.colab-df-convert');\n",
              "        buttonEl.style.display =\n",
              "          google.colab.kernel.accessAllowed ? 'block' : 'none';\n",
              "\n",
              "        async function convertToInteractive(key) {\n",
              "          const element = document.querySelector('#df-0e77b2ad-4cc6-47dd-b2ab-533049cbb0a8');\n",
              "          const dataTable =\n",
              "            await google.colab.kernel.invokeFunction('convertToInteractive',\n",
              "                                                     [key], {});\n",
              "          if (!dataTable) return;\n",
              "\n",
              "          const docLinkHtml = 'Like what you see? Visit the ' +\n",
              "            '<a target=\"_blank\" href=https://colab.research.google.com/notebooks/data_table.ipynb>data table notebook</a>'\n",
              "            + ' to learn more about interactive tables.';\n",
              "          element.innerHTML = '';\n",
              "          dataTable['output_type'] = 'display_data';\n",
              "          await google.colab.output.renderOutput(dataTable, element);\n",
              "          const docLink = document.createElement('div');\n",
              "          docLink.innerHTML = docLinkHtml;\n",
              "          element.appendChild(docLink);\n",
              "        }\n",
              "      </script>\n",
              "    </div>\n",
              "  </div>\n",
              "  "
            ]
          },
          "metadata": {},
          "execution_count": 4
        }
      ]
    },
    {
      "cell_type": "markdown",
      "source": [
        "### Util: Detect group label bias on covariates"
      ],
      "metadata": {
        "id": "Hl_snHaDWilx"
      }
    },
    {
      "cell_type": "code",
      "source": [
        "def testAdversarial(A_group,\n",
        "                    B_group,\n",
        "                    covariates,\n",
        "                    sample_frac = 1.0,\n",
        "                    thr_max = 0.51,\n",
        "                    thr_min = 0.49,\n",
        "                    verbose = False\n",
        "                    ):\n",
        "  \"\"\"\n",
        "  Check if the group variants were stratified correctly using adverserial strategy\n",
        "\n",
        "  Parameters:\n",
        "  * A_group: Group A\n",
        "  * B_group: Group B\n",
        "  * covariates: List of covariates\n",
        "  * sample_frac: Sample of fraction % for faster validation (default 1)\n",
        "  * thr_max: Max threshold for ROC (default 0.51)\n",
        "  * thr_min: Min threshold for ROC (default 0.49)\n",
        "  * verbose: if True then print all step status\n",
        "\n",
        "  Returns: True / False\n",
        "  \"\"\" \n",
        "  from sklearn.ensemble import RandomForestClassifier\n",
        "  from sklearn.model_selection import cross_val_predict\n",
        "  from sklearn.metrics import roc_auc_score\n",
        "\n",
        "  if verbose == True:\n",
        "    print(\"Adverserial validation started...\")\n",
        "  if len(covariates) < 1:\n",
        "    return False\n",
        "  \n",
        "  A_deepcopy = A_group.copy(deep = True)\n",
        "  B_deepcopy = B_group.copy(deep = True)\n",
        "\n",
        "  # if sample fraction is specified, extract the subsets randomly\n",
        "  if (sample_frac < 1.0) and (sample_frac > 0.0):\n",
        "    if verbose == True:\n",
        "      print(\"Sampling {} of both datasets\".format(sample_frac))\n",
        "\n",
        "    A_deepcopy = A_deepcopy.sample(frac = sample_frac)\n",
        "    B_deepcopy = B_deepcopy.sample(frac = sample_frac)\n",
        "    \n",
        "  # Prepare a dataset by combining A & B and put labels of the groups - 2 classes\n",
        "  if verbose == True:\n",
        "    print(\"Combine A & B groups and create group label for each\")\n",
        "  X = A_deepcopy.append(B_deepcopy) \n",
        "  y = [0]*len(A_deepcopy) + [1]*len(B_deepcopy) # put a pseudolabel\n",
        "\n",
        "  # convert all categorical variables to binary \n",
        "  X = pd.get_dummies(X,columns = covariates)\n",
        "\n",
        "  if verbose == True:\n",
        "    print(\"Run a classifier to distinguish between the 2 datasets\")\n",
        "  model = RandomForestClassifier() # use RandomForest here but could be any classifier\n",
        "  \n",
        "  # do cross-val and output prediction of pseudo-label\n",
        "  cv_preds = cross_val_predict(model, \n",
        "                               X, \n",
        "                               y, \n",
        "                               cv=2, \n",
        "                               n_jobs = None,\n",
        "                               method = \"predict_proba\",\n",
        "                               verbose = verbose)\n",
        "  \n",
        "  roc_score = roc_auc_score(y_true = y, y_score = cv_preds[:,1])\n",
        "  if verbose == True:\n",
        "    print (\"ROC Score = {}\".format(roc_score))\n",
        "    print (\"Adverserial validation finished.\")\n",
        "\n",
        "  return thr_min <= roc_score <= thr_max"
      ],
      "metadata": {
        "id": "dtz6D9yzp8Z6"
      },
      "execution_count": 15,
      "outputs": []
    },
    {
      "cell_type": "code",
      "source": [
        "# create a test case\n",
        "\n",
        "train = df[df[\"experiment_variant_code\"]== \"CONTROL\"].drop(\"experiment_variant_code\",axis = 1)\n",
        "test = df[df[\"experiment_variant_code\"] == \"VARIANT\"].drop(\"experiment_variant_code\",axis = 1)\n",
        "features = [\"new_return_visitor\",\"platform_type\",\"posa_super_region\",\"marketing_channel\"]\n",
        "\n",
        "print(testAdversarial(train,test,features,sample_frac = 0.1,verbose = True))\n",
        "\n"
      ],
      "metadata": {
        "id": "hc1P9ICwlaGx",
        "outputId": "eb829204-a188-4f72-ec88-9ef5070c3845",
        "colab": {
          "base_uri": "https://localhost:8080/"
        }
      },
      "execution_count": 13,
      "outputs": [
        {
          "output_type": "stream",
          "name": "stdout",
          "text": [
            "Sampling 0.1 of both datasets\n",
            "Combine A & B groups and create group label for each\n",
            "Run a classifier to distinguish between the 2 datasets\n"
          ]
        },
        {
          "output_type": "stream",
          "name": "stderr",
          "text": [
            "[Parallel(n_jobs=1)]: Using backend SequentialBackend with 1 concurrent workers.\n"
          ]
        },
        {
          "output_type": "stream",
          "name": "stdout",
          "text": [
            "ROC Score = 0.4977313415754645\n",
            "True\n"
          ]
        },
        {
          "output_type": "stream",
          "name": "stderr",
          "text": [
            "[Parallel(n_jobs=1)]: Done   2 out of   2 | elapsed:   50.3s finished\n"
          ]
        }
      ]
    },
    {
      "cell_type": "markdown",
      "source": [
        "### Utils: Perform chisqr tests on covariates"
      ],
      "metadata": {
        "id": "DG-T18pYhVcz"
      }
    },
    {
      "cell_type": "code",
      "source": [
        "def testChiSqr(A_group,\n",
        "               B_group,\n",
        "               covariates,\n",
        "               alpha = 0.05,\n",
        "               verbose = True\n",
        "              ):\n",
        "  \"\"\"\n",
        "  Check if the group variants are balanced based on chi square tests\n",
        "\n",
        "  Parameters:\n",
        "  * A_group: Group A\n",
        "  * B_group: Group B\n",
        "  * covariates: List of covariates\n",
        "  * alpha: Confidence level (default 5%)\n",
        "  * verbose: if True then print all step status\n",
        "\n",
        "  Returns: True / False if any covariates is found unbalanced, together with the lsit\n",
        "  \"\"\" \n",
        "\n",
        "  \n",
        "  from scipy.stats import chi2_contingency\n",
        "\n",
        "  if verbose == True:\n",
        "    print(\"Covariate balancing check using Chisqr test...\")\n",
        "\n",
        "  if len(covariates) < 1:\n",
        "    return False\n",
        "\n",
        "  A_deepcopy = A_group.copy(deep = True)\n",
        "  B_deepcopy = B_group.copy(deep = True)\n",
        "\n",
        "  # label group\n",
        "  A_deepcopy[\"group_\"] = \"A\"\n",
        "  B_deepcopy[\"group_\"] = \"B\"\n",
        "\n",
        "\n",
        "  # Prepare a dataset by combining A & B \n",
        "  if verbose == True:\n",
        "    print(\"Combine A & B groups and create group label for each\")\n",
        "  AB_df = A_deepcopy.append(B_deepcopy) \n",
        "\n",
        "  output_list = []\n",
        "\n",
        "  for cov in covariates:\n",
        "      pct = pd.crosstab(AB_df[cov],AB_df[\"group_\"],normalize = \"columns\")\n",
        "      _, p, _, _ = chi2_contingency(pct) \n",
        "\n",
        "      if verbose == True:\n",
        "        print(\"Covariate {}:\".format(cov))\n",
        "        print(pct)\n",
        "        print(\"p_val = {}\".format(p))\n",
        "        print()\n",
        "      \n",
        "      if p <= alpha:\n",
        "        output_list.append(cov)\n",
        "  \n",
        "  return len(output_list)>0, output_list  "
      ],
      "metadata": {
        "id": "K8g3ESJU3frv"
      },
      "execution_count": 21,
      "outputs": []
    },
    {
      "cell_type": "code",
      "source": [
        "# create a test case\n",
        "\n",
        "train = df[df[\"experiment_variant_code\"]== \"CONTROL\"].drop(\"experiment_variant_code\",axis = 1)\n",
        "test = df[df[\"experiment_variant_code\"] == \"VARIANT\"].drop(\"experiment_variant_code\",axis = 1)\n",
        "features = [\"new_return_visitor\",\"platform_type\",\"posa_super_region\",\"marketing_channel\"]\n",
        "\n",
        "print(testChiSqr(train,test,features,verbose = False))"
      ],
      "metadata": {
        "id": "GqbivbXghdr5",
        "outputId": "1b83919d-28b5-4b6c-ca68-6d25545ba0a4",
        "colab": {
          "base_uri": "https://localhost:8080/"
        }
      },
      "execution_count": 20,
      "outputs": [
        {
          "output_type": "stream",
          "name": "stdout",
          "text": [
            "(False, [])\n"
          ]
        }
      ]
    },
    {
      "cell_type": "code",
      "source": [],
      "metadata": {
        "id": "IajrkwHhhdfE"
      },
      "execution_count": null,
      "outputs": []
    }
  ]
}